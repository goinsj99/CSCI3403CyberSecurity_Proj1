from pymd5 import md5

m = b"Use HMAC, not hashes"
h = md5()
h.update(m)
print(h.hexdigest())

bits = int(length_of_m + len