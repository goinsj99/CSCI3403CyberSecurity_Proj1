{
 "cells": [
  {
   "cell_type": "code",
   "execution_count": 26,
   "metadata": {},
   "outputs": [],
   "source": [
    "import http.client \n",
    "import urllib.parse \n",
    "import sys\n",
    "import pymd5"
   ]
  },
  {
   "cell_type": "code",
   "execution_count": 27,
   "metadata": {},
   "outputs": [],
   "source": [
    "from pymd5 import md5, padding\n",
    "\n",
    "original_url = 'https://csci3403.com/proj1/api?token=1e755d78dcb4d783b2573b8d04fcc48a&user=admin&command1=ListFiles&command2=NoOp'\n",
    "og_query = 'user=admin&command1=ListFiles&command2=NoOp'\n",
    "original_query = b'user=admin&command1=ListFiles&command2=NoOp'\n",
    "h = md5()\n",
    "h.update(original_query)"
   ]
  },
  {
   "cell_type": "code",
   "execution_count": 28,
   "metadata": {},
   "outputs": [
    {
     "name": "stdout",
     "output_type": "stream",
     "text": [
      "d037150d6ddc74fff8db6e4d6d5bbf28\n",
      "https://csci3403.com/proj1/api?token=d037150d6ddc74fff8db6e4d6d5bbf28&user=admin&command1=ListFiles&command2=NoOp%80%00%00%00%00%00%00%00%00%00%00%00%00X%01%00%00%00%00%00%00&command3=DeleteAllFiles\n"
     ]
    }
   ],
   "source": [
    "original_token = '1e755d78dcb4d783b2573b8d04fcc48a'\n",
    "original_message_length = len(original_query)\n",
    "message_padding = pymd5.padding(original_message_length*8)\n",
    "total_len = (original_message_length + len(message_padding)) * 8\n",
    "h = pymd5.md5(state=bytes.fromhex(original_token), count=total_len)\n",
    "\n",
    "suffix = '&command3=DeleteAllFiles'\n",
    "h.update(suffix.encode())\n",
    "updated_token = h.hexdigest()\n",
    "print(updated_token)\n",
    "\n",
    "url_safe_padding = urllib.parse.quote(message_padding)\n",
    "\n",
    "updated_query = og_query + url_safe_padding + suffix\n",
    "new_url = f\"https://csci3403.com/proj1/api?token={updated_token}&{updated_query}\"\n",
    "print(new_url)"
   ]
  },
  {
   "cell_type": "code",
   "execution_count": 29,
   "metadata": {
    "scrolled": true
   },
   "outputs": [
    {
     "name": "stdout",
     "output_type": "stream",
     "text": [
      "/proj1/api?token=d037150d6ddc74fff8db6e4d6d5bbf28&user=admin&command1=ListFiles&command2=NoOp%80%00%00%00%00%00%00%00%00%00%00%00%00X%01%00%00%00%00%00%00&command3=DeleteAllFiles\n",
      "b'<strong>Error:</strong> Invalid token for command: user=admin&command1=ListFiles&command2=NoOp%80%00%00%00%00%00%00%00%00%00%00%00%00X%01%00%00%00%00%00%00&command3=DeleteAllFiles'\n"
     ]
    }
   ],
   "source": [
    "parsed_url = urllib.parse.urlparse(new_url)\n",
    "conn = http.client.HTTPSConnection(parsed_url.hostname, parsed_url.port)\n",
    "print(parsed_url.path + \"?\" + parsed_url.query)\n",
    "conn.request(\"GET\", parsed_url.path + \"?\" + parsed_url.query)\n",
    "print(conn.getresponse().read())"
   ]
  },
  {
   "cell_type": "code",
   "execution_count": null,
   "metadata": {},
   "outputs": [],
   "source": []
  },
  {
   "cell_type": "code",
   "execution_count": 5,
   "metadata": {},
   "outputs": [
    {
     "name": "stdout",
     "output_type": "stream",
     "text": [
      "1024\n"
     ]
    }
   ],
   "source": [
    "original_token = 'a65a3aace0f53e7931b0ff69a71a3d42'\n",
    "length_of_url = len(original_url)\n",
    "url_pad = pymd5.padding(length_of_url * 8)\n",
    "total_len = (length_of_url + len(url_pad)) * 8\n",
    "h = pymd5.md5(state=bytes.fromhex(original_token), count=total_len)\n",
    "print(total_len)\n"
   ]
  },
  {
   "cell_type": "code",
   "execution_count": 6,
   "metadata": {},
   "outputs": [
    {
     "name": "stdout",
     "output_type": "stream",
     "text": [
      "1cf0b31c1f8f4d54b7c8a959739625c4\n"
     ]
    }
   ],
   "source": [
    "suffix = '&command3=DeleteAllFiles'\n",
    "h.update(suffix.encode())\n",
    "# updated_url = h.hexdigest()\n",
    "# new_url = original_url + padding(len(original_url)*8)+ suffix.encode()\n",
    "# print (original_url + padding(len(original_url)*8)+ suffix.encode())\n",
    "print(h.hexdigest())"
   ]
  },
  {
   "cell_type": "code",
   "execution_count": 7,
   "metadata": {},
   "outputs": [
    {
     "name": "stdout",
     "output_type": "stream",
     "text": [
      "%80%00%00%00%00%00%00%88%03%00%00%00%00%00%00\n"
     ]
    },
    {
     "ename": "NameError",
     "evalue": "name 'og_url' is not defined",
     "output_type": "error",
     "traceback": [
      "\u001b[0;31m---------------------------------------------------------------------------\u001b[0m",
      "\u001b[0;31mNameError\u001b[0m                                 Traceback (most recent call last)",
      "\u001b[0;32m<ipython-input-7-195bb97e39af>\u001b[0m in \u001b[0;36m<module>\u001b[0;34m\u001b[0m\n\u001b[1;32m      2\u001b[0m \u001b[0mprint\u001b[0m\u001b[0;34m(\u001b[0m\u001b[0murl_safe_padding\u001b[0m\u001b[0;34m)\u001b[0m\u001b[0;34m\u001b[0m\u001b[0;34m\u001b[0m\u001b[0m\n\u001b[1;32m      3\u001b[0m \u001b[0;34m\u001b[0m\u001b[0m\n\u001b[0;32m----> 4\u001b[0;31m \u001b[0mupdated_url\u001b[0m \u001b[0;34m=\u001b[0m \u001b[0mog_url\u001b[0m \u001b[0;34m+\u001b[0m \u001b[0murl_safe_padding\u001b[0m \u001b[0;34m+\u001b[0m \u001b[0msuffix\u001b[0m\u001b[0;34m\u001b[0m\u001b[0;34m\u001b[0m\u001b[0m\n\u001b[0m\u001b[1;32m      5\u001b[0m \u001b[0mprint\u001b[0m\u001b[0;34m(\u001b[0m\u001b[0mupdated_url\u001b[0m\u001b[0;34m)\u001b[0m\u001b[0;34m\u001b[0m\u001b[0;34m\u001b[0m\u001b[0m\n",
      "\u001b[0;31mNameError\u001b[0m: name 'og_url' is not defined"
     ]
    }
   ],
   "source": [
    "url_safe_padding = urllib.parse.quote(url_pad)\n",
    "print(url_safe_padding)\n",
    "\n",
    "updated_url = og_url + url_safe_padding + suffix\n",
    "print(updated_url)"
   ]
  },
  {
   "cell_type": "code",
   "execution_count": null,
   "metadata": {},
   "outputs": [],
   "source": [
    "parsed_url = urllib.parse.urlparse(updated_url)\n",
    "conn = http.client.HTTPSConnection(parsed_url.hostname, parsed_url.port)\n",
    "conn.request(\"GET\", parsed_url.path + \"?\" + parsed_url.query)\n",
    "print(conn.getresponse().read())"
   ]
  },
  {
   "cell_type": "code",
   "execution_count": null,
   "metadata": {},
   "outputs": [],
   "source": []
  }
 ],
 "metadata": {
  "kernelspec": {
   "display_name": "Python 3",
   "language": "python",
   "name": "python3"
  },
  "language_info": {
   "codemirror_mode": {
    "name": "ipython",
    "version": 3
   },
   "file_extension": ".py",
   "mimetype": "text/x-python",
   "name": "python",
   "nbconvert_exporter": "python",
   "pygments_lexer": "ipython3",
   "version": "3.8.5"
  }
 },
 "nbformat": 4,
 "nbformat_minor": 4
}
